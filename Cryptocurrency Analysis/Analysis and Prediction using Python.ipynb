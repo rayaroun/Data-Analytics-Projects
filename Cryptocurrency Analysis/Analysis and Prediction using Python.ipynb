{
 "cells": [
  {
   "cell_type": "code",
   "execution_count": 2,
   "id": "b4317c71-3471-4850-af6c-ca4eb49d7961",
   "metadata": {},
   "outputs": [],
   "source": [
    "import pandas_datareader.data as reader\n",
    "import datetime as dt\n",
    "import matplotlib.pyplot as plt\n",
    "import seaborn as sns"
   ]
  },
  {
   "cell_type": "markdown",
   "id": "d74ba310-65c1-4835-9e6d-1a34036e9011",
   "metadata": {},
   "source": [
    "# Get online cryptocurrency proces"
   ]
  },
  {
   "cell_type": "code",
   "execution_count": 3,
   "id": "4c930e17-4089-44bb-8c1c-d466dac7afbd",
   "metadata": {},
   "outputs": [],
   "source": [
    "end = dt.datetime.now()\n",
    "\n",
    "start = dt.date( end.year - 5, end.month , end.day )  #trying to get data from 5 years ago"
   ]
  },
  {
   "cell_type": "code",
   "execution_count": null,
   "id": "6288c8c8-2ee6-480f-8bfb-4216f89932aa",
   "metadata": {},
   "outputs": [],
   "source": [
    "cryptolist = [ 'BTC-USD' , 'ETH-USD' , ] "
   ]
  }
 ],
 "metadata": {
  "kernelspec": {
   "display_name": "Python 3 (ipykernel)",
   "language": "python",
   "name": "python3"
  },
  "language_info": {
   "codemirror_mode": {
    "name": "ipython",
    "version": 3
   },
   "file_extension": ".py",
   "mimetype": "text/x-python",
   "name": "python",
   "nbconvert_exporter": "python",
   "pygments_lexer": "ipython3",
   "version": "3.8.11"
  }
 },
 "nbformat": 4,
 "nbformat_minor": 5
}
