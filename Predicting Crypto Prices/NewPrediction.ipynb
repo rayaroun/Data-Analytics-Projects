{
 "cells": [
  {
   "cell_type": "code",
   "execution_count": 2,
   "source": [
    "import numpy as np\r\n",
    "import matplotlib.pyplot as plt\r\n",
    "import pandas as pd\r\n",
    "import pandas_datareader as web\r\n",
    "import datetime as dt"
   ],
   "outputs": [],
   "metadata": {}
  },
  {
   "cell_type": "code",
   "execution_count": 3,
   "source": [
    "from sklearn.preprocessing import MinMaxScaler\r\n",
    "from tensorflow.keras.layers import Dense, Dropout, LSTM\r\n",
    "from tensorflow.keras.models import Sequential"
   ],
   "outputs": [],
   "metadata": {}
  },
  {
   "cell_type": "code",
   "execution_count": 4,
   "source": [
    "crypto = 'BTC'\r\n",
    "currency = 'USD'\r\n",
    "\r\n",
    "\r\n",
    "start = dt.datetime(2016,1,1)\r\n",
    "\r\n",
    "end = dt.datetime.now()\r\n",
    "\r\n",
    "\r\n",
    "data = web.DataReader( f'{crypto}-{currency}' , 'yahoo' , start , end)"
   ],
   "outputs": [],
   "metadata": {}
  },
  {
   "cell_type": "code",
   "execution_count": 5,
   "source": [
    "data"
   ],
   "outputs": [
    {
     "output_type": "execute_result",
     "data": {
      "text/html": [
       "<div>\n",
       "<style scoped>\n",
       "    .dataframe tbody tr th:only-of-type {\n",
       "        vertical-align: middle;\n",
       "    }\n",
       "\n",
       "    .dataframe tbody tr th {\n",
       "        vertical-align: top;\n",
       "    }\n",
       "\n",
       "    .dataframe thead th {\n",
       "        text-align: right;\n",
       "    }\n",
       "</style>\n",
       "<table border=\"1\" class=\"dataframe\">\n",
       "  <thead>\n",
       "    <tr style=\"text-align: right;\">\n",
       "      <th></th>\n",
       "      <th>High</th>\n",
       "      <th>Low</th>\n",
       "      <th>Open</th>\n",
       "      <th>Close</th>\n",
       "      <th>Volume</th>\n",
       "      <th>Adj Close</th>\n",
       "    </tr>\n",
       "    <tr>\n",
       "      <th>Date</th>\n",
       "      <th></th>\n",
       "      <th></th>\n",
       "      <th></th>\n",
       "      <th></th>\n",
       "      <th></th>\n",
       "      <th></th>\n",
       "    </tr>\n",
       "  </thead>\n",
       "  <tbody>\n",
       "    <tr>\n",
       "      <th>2016-01-01</th>\n",
       "      <td>436.246002</td>\n",
       "      <td>427.515015</td>\n",
       "      <td>430.721008</td>\n",
       "      <td>434.334015</td>\n",
       "      <td>3.627890e+07</td>\n",
       "      <td>434.334015</td>\n",
       "    </tr>\n",
       "    <tr>\n",
       "      <th>2016-01-02</th>\n",
       "      <td>436.062012</td>\n",
       "      <td>431.869995</td>\n",
       "      <td>434.622009</td>\n",
       "      <td>433.437988</td>\n",
       "      <td>3.009660e+07</td>\n",
       "      <td>433.437988</td>\n",
       "    </tr>\n",
       "    <tr>\n",
       "      <th>2016-01-03</th>\n",
       "      <td>433.743011</td>\n",
       "      <td>424.705994</td>\n",
       "      <td>433.578003</td>\n",
       "      <td>430.010986</td>\n",
       "      <td>3.963380e+07</td>\n",
       "      <td>430.010986</td>\n",
       "    </tr>\n",
       "    <tr>\n",
       "      <th>2016-01-04</th>\n",
       "      <td>434.516998</td>\n",
       "      <td>429.084015</td>\n",
       "      <td>430.061005</td>\n",
       "      <td>433.091003</td>\n",
       "      <td>3.847750e+07</td>\n",
       "      <td>433.091003</td>\n",
       "    </tr>\n",
       "    <tr>\n",
       "      <th>2016-01-05</th>\n",
       "      <td>434.182007</td>\n",
       "      <td>429.675995</td>\n",
       "      <td>433.069000</td>\n",
       "      <td>431.959991</td>\n",
       "      <td>3.452260e+07</td>\n",
       "      <td>431.959991</td>\n",
       "    </tr>\n",
       "    <tr>\n",
       "      <th>...</th>\n",
       "      <td>...</td>\n",
       "      <td>...</td>\n",
       "      <td>...</td>\n",
       "      <td>...</td>\n",
       "      <td>...</td>\n",
       "      <td>...</td>\n",
       "    </tr>\n",
       "    <tr>\n",
       "      <th>2021-09-09</th>\n",
       "      <td>47031.742188</td>\n",
       "      <td>44344.484375</td>\n",
       "      <td>46396.664062</td>\n",
       "      <td>44883.910156</td>\n",
       "      <td>3.915467e+10</td>\n",
       "      <td>44883.910156</td>\n",
       "    </tr>\n",
       "    <tr>\n",
       "      <th>2021-09-10</th>\n",
       "      <td>45969.292969</td>\n",
       "      <td>44818.265625</td>\n",
       "      <td>44869.839844</td>\n",
       "      <td>45201.457031</td>\n",
       "      <td>3.449984e+10</td>\n",
       "      <td>45201.457031</td>\n",
       "    </tr>\n",
       "    <tr>\n",
       "      <th>2021-09-11</th>\n",
       "      <td>46364.878906</td>\n",
       "      <td>44790.460938</td>\n",
       "      <td>45206.628906</td>\n",
       "      <td>46063.269531</td>\n",
       "      <td>2.788198e+10</td>\n",
       "      <td>46063.269531</td>\n",
       "    </tr>\n",
       "    <tr>\n",
       "      <th>2021-09-12</th>\n",
       "      <td>46598.679688</td>\n",
       "      <td>43591.320312</td>\n",
       "      <td>46057.214844</td>\n",
       "      <td>44963.074219</td>\n",
       "      <td>4.096994e+10</td>\n",
       "      <td>44963.074219</td>\n",
       "    </tr>\n",
       "    <tr>\n",
       "      <th>2021-09-14</th>\n",
       "      <td>46913.980469</td>\n",
       "      <td>44860.273438</td>\n",
       "      <td>44860.273438</td>\n",
       "      <td>46636.640625</td>\n",
       "      <td>3.955447e+10</td>\n",
       "      <td>46636.640625</td>\n",
       "    </tr>\n",
       "  </tbody>\n",
       "</table>\n",
       "<p>2080 rows × 6 columns</p>\n",
       "</div>"
      ],
      "text/plain": [
       "                    High           Low          Open         Close  \\\n",
       "Date                                                                 \n",
       "2016-01-01    436.246002    427.515015    430.721008    434.334015   \n",
       "2016-01-02    436.062012    431.869995    434.622009    433.437988   \n",
       "2016-01-03    433.743011    424.705994    433.578003    430.010986   \n",
       "2016-01-04    434.516998    429.084015    430.061005    433.091003   \n",
       "2016-01-05    434.182007    429.675995    433.069000    431.959991   \n",
       "...                  ...           ...           ...           ...   \n",
       "2021-09-09  47031.742188  44344.484375  46396.664062  44883.910156   \n",
       "2021-09-10  45969.292969  44818.265625  44869.839844  45201.457031   \n",
       "2021-09-11  46364.878906  44790.460938  45206.628906  46063.269531   \n",
       "2021-09-12  46598.679688  43591.320312  46057.214844  44963.074219   \n",
       "2021-09-14  46913.980469  44860.273438  44860.273438  46636.640625   \n",
       "\n",
       "                  Volume     Adj Close  \n",
       "Date                                    \n",
       "2016-01-01  3.627890e+07    434.334015  \n",
       "2016-01-02  3.009660e+07    433.437988  \n",
       "2016-01-03  3.963380e+07    430.010986  \n",
       "2016-01-04  3.847750e+07    433.091003  \n",
       "2016-01-05  3.452260e+07    431.959991  \n",
       "...                  ...           ...  \n",
       "2021-09-09  3.915467e+10  44883.910156  \n",
       "2021-09-10  3.449984e+10  45201.457031  \n",
       "2021-09-11  2.788198e+10  46063.269531  \n",
       "2021-09-12  4.096994e+10  44963.074219  \n",
       "2021-09-14  3.955447e+10  46636.640625  \n",
       "\n",
       "[2080 rows x 6 columns]"
      ]
     },
     "metadata": {},
     "execution_count": 5
    }
   ],
   "metadata": {}
  },
  {
   "cell_type": "code",
   "execution_count": 6,
   "source": [
    "scaler = MinMaxScaler(feature_range=(0,1))\r\n",
    "\r\n",
    "scaled_data = scaler.fit_transform(data['Close'].values.reshape(-1,1))"
   ],
   "outputs": [],
   "metadata": {}
  },
  {
   "cell_type": "code",
   "execution_count": 7,
   "source": [
    "prediction_days = 60 #train for 60 days to predict the 61st day\r\n",
    "\r\n",
    "\r\n",
    "x_train , y_train = [] , []\r\n",
    "\r\n",
    "for x in range ( prediction_days, len(scaled_data)):\r\n",
    "    x_train.append(scaled_data[x-prediction_days:x, 0])\r\n",
    "    y_train.append(scaled_data[x,0])\r\n",
    "    \r\n",
    "    \r\n",
    "x_train , y_train = np.array(x_train) , np.array(y_train)\r\n",
    "\r\n",
    "x_train = np.reshape(x_train , (x_train.shape[0] , x_train.shape[1], 1))\r\n",
    "\r\n"
   ],
   "outputs": [],
   "metadata": {}
  },
  {
   "cell_type": "code",
   "execution_count": 8,
   "source": [
    "#Creating Neural Networks\r\n",
    "\r\n",
    "\r\n",
    "model = Sequential()\r\n",
    "\r\n",
    "model.add(LSTM(units = 50, return_sequences = True, input_shape= (x_train.shape[1] , 1)))\r\n",
    "\r\n",
    "model.add(Dropout(0.2)) #to prevent overfitting\r\n",
    "\r\n",
    "model.add(LSTM(units = 50 , return_sequences = True))\r\n",
    "\r\n",
    "model.add(Dropout(0.2))\r\n",
    "\r\n",
    "model.add(LSTM(units = 50) ) \r\n",
    "\r\n",
    "model.add(Dropout(0.2))\r\n",
    "          \r\n",
    "model.add(Dense(units = 1))\r\n",
    "\r\n",
    "model.compile(optimizer = 'adam' , loss = 'mean_squared_error')\r\n",
    "\r\n",
    "model.fit(x_train, y_train, epochs = 25 , batch_size = 32) "
   ],
   "outputs": [
    {
     "output_type": "stream",
     "name": "stdout",
     "text": [
      "Epoch 1/25\n",
      "64/64 [==============================] - 3s 52ms/step - loss: 0.0076\n",
      "Epoch 2/25\n",
      "64/64 [==============================] - 3s 48ms/step - loss: 0.0023\n",
      "Epoch 3/25\n",
      "64/64 [==============================] - 3s 50ms/step - loss: 0.0020\n",
      "Epoch 4/25\n",
      "64/64 [==============================] - 4s 62ms/step - loss: 0.0021\n",
      "Epoch 5/25\n",
      "64/64 [==============================] - 3s 53ms/step - loss: 0.0017\n",
      "Epoch 6/25\n",
      "64/64 [==============================] - 3s 48ms/step - loss: 0.0017\n",
      "Epoch 7/25\n",
      "64/64 [==============================] - 3s 44ms/step - loss: 0.0018\n",
      "Epoch 8/25\n",
      "64/64 [==============================] - 3s 46ms/step - loss: 0.0015\n",
      "Epoch 9/25\n",
      "64/64 [==============================] - 3s 51ms/step - loss: 0.0014\n",
      "Epoch 10/25\n",
      "64/64 [==============================] - 3s 54ms/step - loss: 0.0014\n",
      "Epoch 11/25\n",
      "64/64 [==============================] - 4s 67ms/step - loss: 0.0012\n",
      "Epoch 12/25\n",
      "64/64 [==============================] - 4s 64ms/step - loss: 0.0013\n",
      "Epoch 13/25\n",
      "64/64 [==============================] - 4s 61ms/step - loss: 0.0012\n",
      "Epoch 14/25\n",
      "64/64 [==============================] - 4s 61ms/step - loss: 0.0011\n",
      "Epoch 15/25\n",
      "64/64 [==============================] - 3s 54ms/step - loss: 0.0012\n",
      "Epoch 16/25\n",
      "64/64 [==============================] - 4s 69ms/step - loss: 0.0011\n",
      "Epoch 17/25\n",
      "64/64 [==============================] - 4s 63ms/step - loss: 0.0013\n",
      "Epoch 18/25\n",
      "64/64 [==============================] - 4s 60ms/step - loss: 0.0010\n",
      "Epoch 19/25\n",
      "64/64 [==============================] - 4s 60ms/step - loss: 0.0011\n",
      "Epoch 20/25\n",
      "64/64 [==============================] - 4s 60ms/step - loss: 9.3671e-04\n",
      "Epoch 21/25\n",
      "64/64 [==============================] - 4s 55ms/step - loss: 0.0010\n",
      "Epoch 22/25\n",
      "64/64 [==============================] - 3s 54ms/step - loss: 9.2089e-04\n",
      "Epoch 23/25\n",
      "64/64 [==============================] - 4s 56ms/step - loss: 7.5148e-04\n",
      "Epoch 24/25\n",
      "64/64 [==============================] - 4s 56ms/step - loss: 9.9225e-04\n",
      "Epoch 25/25\n",
      "64/64 [==============================] - 3s 45ms/step - loss: 9.1042e-04\n"
     ]
    },
    {
     "output_type": "execute_result",
     "data": {
      "text/plain": [
       "<tensorflow.python.keras.callbacks.History at 0x2ac330c5460>"
      ]
     },
     "metadata": {},
     "execution_count": 8
    }
   ],
   "metadata": {}
  },
  {
   "cell_type": "code",
   "execution_count": 9,
   "source": [
    "#Testing the model \r\n",
    "\r\n",
    "\r\n",
    "test_start = dt.datetime(2020,1,1)\r\n",
    "\r\n",
    "test_end = dt.datetime.now()\r\n",
    "\r\n",
    "test_data = web.DataReader(f'{crypto}-{currency}' , 'yahoo' , test_start , test_end)\r\n",
    "\r\n",
    "actual_prices = test_data['Close'].values"
   ],
   "outputs": [],
   "metadata": {}
  },
  {
   "cell_type": "code",
   "execution_count": 10,
   "source": [
    "total_dataset = pd.concat((data['Close'], test_data['Close']) , axis = 0)\r\n",
    "\r\n",
    "model_inputs = total_dataset[len(total_dataset) - len(test_data) - prediction_days:].values"
   ],
   "outputs": [],
   "metadata": {}
  },
  {
   "cell_type": "code",
   "execution_count": 11,
   "source": [
    "model_inputs = model_inputs.reshape(-1, 1)\r\n",
    "\r\n",
    "scaler = MinMaxScaler(feature_range=(0,1))\r\n",
    "\r\n",
    "model_inputs = scaler.fit_transform(model_inputs)\r\n",
    "\r\n",
    "x_test = []\r\n",
    "\r\n",
    "for x in range(prediction_days, len(model_inputs)):\r\n",
    "    x_test.append(model_inputs[x-prediction_days:x , 0])\r\n",
    "    \r\n",
    "x_test = np.array(x_test)\r\n",
    "\r\n",
    "x_test = np.reshape(x_test , (x_test.shape[0] , x_test.shape[1], 1))\r\n",
    "\r\n",
    "prediction_prices = model.predict(x_test)\r\n",
    "\r\n",
    "prediction_p = scaler.inverse_transform(prediction_prices)\r\n",
    "\r\n"
   ],
   "outputs": [],
   "metadata": {}
  },
  {
   "cell_type": "markdown",
   "source": [
    "## Plotting the prediction and the actual prices"
   ],
   "metadata": {}
  },
  {
   "cell_type": "code",
   "execution_count": 12,
   "source": [
    "plt.figure(figsize=(20,8))\r\n",
    "\r\n",
    "plt.plot(actual_prices, color = 'black' , label = 'Actual Prices' )\r\n",
    "\r\n",
    "plt.plot(prediction_p , color = 'green' , label = 'Predicted Prices')\r\n",
    "\r\n",
    "plt.title(f'{crypto} price prediction')\r\n",
    "\r\n",
    "plt.xlabel('Time')\r\n",
    "\r\n",
    "plt.ylabel('Price')\r\n",
    "\r\n",
    "plt.legend(loc = 'upper left')\r\n",
    "\r\n",
    "plt.show()"
   ],
   "outputs": [
    {
     "output_type": "display_data",
     "data": {
      "image/png": "[encoded data removed]",
      "text/plain": [
       "<Figure size 1440x576 with 1 Axes>"
      ]
     },
     "metadata": {
      "needs_background": "light"
     }
    }
   ],
   "metadata": {}
  },
  {
   "cell_type": "markdown",
   "source": [
    "## Predict next day\r\n",
    "\r\n"
   ],
   "metadata": {}
  },
  {
   "cell_type": "code",
   "execution_count": 13,
   "source": [
    "real_data = [model_inputs[len(model_inputs) + 1 - prediction_days:len(model_inputs) + 1, 0]]\r\n",
    "\r\n",
    "real_data = np.array(real_data)\r\n",
    "\r\n",
    "real_data = np.reshape(real_data , (real_data.shape[0], real_data.shape[1], 1))\r\n",
    "\r\n",
    "prediction = model.predict(real_data)\r\n",
    "\r\n",
    "pd = scaler.inverse_transform(prediction)\r\n",
    "\r\n",
    "print(\"Predictions for the next day are\" , pd)"
   ],
   "outputs": [
    {
     "output_type": "stream",
     "name": "stdout",
     "text": [
      "WARNING:tensorflow:Model was constructed with shape (None, 60, 1) for input Tensor(\"lstm_input:0\", shape=(None, 60, 1), dtype=float32), but it was called on an input with incompatible shape (None, 59, 1).\n",
      "Predictions for the next day are [[45947.13]]\n"
     ]
    }
   ],
   "metadata": {}
  }
 ],
 "metadata": {
  "kernelspec": {
   "name": "python3",
   "display_name": "Python 3.8.11 64-bit ('NewTry': conda)"
  },
  "language_info": {
   "codemirror_mode": {
    "name": "ipython",
    "version": 3
   },
   "file_extension": ".py",
   "mimetype": "text/x-python",
   "name": "python",
   "nbconvert_exporter": "python",
   "pygments_lexer": "ipython3",
   "version": "3.8.11"
  },
  "interpreter": {
   "hash": "f094a24a4008203dd51fb7d7659f4ccdd83309b3080c43330cabea2cf50dc1f8"
  }
 },
 "nbformat": 4,
 "nbformat_minor": 5
}