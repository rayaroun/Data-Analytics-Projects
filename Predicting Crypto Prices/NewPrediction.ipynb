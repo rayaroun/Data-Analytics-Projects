{
 "cells": [
  {
   "cell_type": "code",
   "execution_count": 2,
   "id": "8d9bda25-6532-4a6a-8871-40add07b4038",
   "metadata": {},
   "outputs": [],
   "source": [
    "import numpy as np\n",
    "import matplotlib.pyplot as plt\n",
    "import pandas as pd\n",
    "import pandas_datareader as web\n",
    "import datetime as dt"
   ]
  },
  {
   "cell_type": "code",
   "execution_count": 3,
   "id": "f935249c-0e22-4f13-a5d3-5f28aa0a96a3",
   "metadata": {},
   "outputs": [],
   "source": [
    "from sklearn.preprocessing import MinMaxScaler\n",
    "from tensorflow.keras.layers import Dense, Dropout, LSTM\n",
    "from tensorflow.keras.models import Sequential"
   ]
  },
  {
   "cell_type": "code",
   "execution_count": 4,
   "id": "1ea15f91-a421-4cd5-a38e-4615e219dd2e",
   "metadata": {},
   "outputs": [],
   "source": [
    "crypto = 'BTC'\n",
    "currency = 'USD'\n",
    "\n",
    "\n",
    "start = dt.datetime(2016,1,1)\n",
    "\n",
    "end = dt.datetime.now()\n",
    "\n",
    "\n",
    "data = web.DataReader( f'{crypto}-{currency}' , 'yahoo' , start , end)"
   ]
  },
  {
   "cell_type": "code",
   "execution_count": 5,
   "id": "46177c87-866c-4db5-94e9-a701236fe0a3",
   "metadata": {},
   "outputs": [
    {
     "data": {
      "text/html": [
       "<div>\n",
       "<style scoped>\n",
       "    .dataframe tbody tr th:only-of-type {\n",
       "        vertical-align: middle;\n",
       "    }\n",
       "\n",
       "    .dataframe tbody tr th {\n",
       "        vertical-align: top;\n",
       "    }\n",
       "\n",
       "    .dataframe thead th {\n",
       "        text-align: right;\n",
       "    }\n",
       "</style>\n",
       "<table border=\"1\" class=\"dataframe\">\n",
       "  <thead>\n",
       "    <tr style=\"text-align: right;\">\n",
       "      <th></th>\n",
       "      <th>High</th>\n",
       "      <th>Low</th>\n",
       "      <th>Open</th>\n",
       "      <th>Close</th>\n",
       "      <th>Volume</th>\n",
       "      <th>Adj Close</th>\n",
       "    </tr>\n",
       "    <tr>\n",
       "      <th>Date</th>\n",
       "      <th></th>\n",
       "      <th></th>\n",
       "      <th></th>\n",
       "      <th></th>\n",
       "      <th></th>\n",
       "      <th></th>\n",
       "    </tr>\n",
       "  </thead>\n",
       "  <tbody>\n",
       "    <tr>\n",
       "      <th>2016-01-01</th>\n",
       "      <td>436.246002</td>\n",
       "      <td>427.515015</td>\n",
       "      <td>430.721008</td>\n",
       "      <td>434.334015</td>\n",
       "      <td>3.627890e+07</td>\n",
       "      <td>434.334015</td>\n",
       "    </tr>\n",
       "    <tr>\n",
       "      <th>2016-01-02</th>\n",
       "      <td>436.062012</td>\n",
       "      <td>431.869995</td>\n",
       "      <td>434.622009</td>\n",
       "      <td>433.437988</td>\n",
       "      <td>3.009660e+07</td>\n",
       "      <td>433.437988</td>\n",
       "    </tr>\n",
       "    <tr>\n",
       "      <th>2016-01-03</th>\n",
       "      <td>433.743011</td>\n",
       "      <td>424.705994</td>\n",
       "      <td>433.578003</td>\n",
       "      <td>430.010986</td>\n",
       "      <td>3.963380e+07</td>\n",
       "      <td>430.010986</td>\n",
       "    </tr>\n",
       "    <tr>\n",
       "      <th>2016-01-04</th>\n",
       "      <td>434.516998</td>\n",
       "      <td>429.084015</td>\n",
       "      <td>430.061005</td>\n",
       "      <td>433.091003</td>\n",
       "      <td>3.847750e+07</td>\n",
       "      <td>433.091003</td>\n",
       "    </tr>\n",
       "    <tr>\n",
       "      <th>2016-01-05</th>\n",
       "      <td>434.182007</td>\n",
       "      <td>429.675995</td>\n",
       "      <td>433.069000</td>\n",
       "      <td>431.959991</td>\n",
       "      <td>3.452260e+07</td>\n",
       "      <td>431.959991</td>\n",
       "    </tr>\n",
       "    <tr>\n",
       "      <th>...</th>\n",
       "      <td>...</td>\n",
       "      <td>...</td>\n",
       "      <td>...</td>\n",
       "      <td>...</td>\n",
       "      <td>...</td>\n",
       "      <td>...</td>\n",
       "    </tr>\n",
       "    <tr>\n",
       "      <th>2021-09-09</th>\n",
       "      <td>47031.742188</td>\n",
       "      <td>44344.484375</td>\n",
       "      <td>46396.664062</td>\n",
       "      <td>44883.910156</td>\n",
       "      <td>3.915467e+10</td>\n",
       "      <td>44883.910156</td>\n",
       "    </tr>\n",
       "    <tr>\n",
       "      <th>2021-09-10</th>\n",
       "      <td>45969.292969</td>\n",
       "      <td>44818.265625</td>\n",
       "      <td>44869.839844</td>\n",
       "      <td>45201.457031</td>\n",
       "      <td>3.449984e+10</td>\n",
       "      <td>45201.457031</td>\n",
       "    </tr>\n",
       "    <tr>\n",
       "      <th>2021-09-11</th>\n",
       "      <td>46364.878906</td>\n",
       "      <td>44790.460938</td>\n",
       "      <td>45206.628906</td>\n",
       "      <td>46063.269531</td>\n",
       "      <td>2.788198e+10</td>\n",
       "      <td>46063.269531</td>\n",
       "    </tr>\n",
       "    <tr>\n",
       "      <th>2021-09-12</th>\n",
       "      <td>46598.679688</td>\n",
       "      <td>43591.320312</td>\n",
       "      <td>46057.214844</td>\n",
       "      <td>44963.074219</td>\n",
       "      <td>4.096994e+10</td>\n",
       "      <td>44963.074219</td>\n",
       "    </tr>\n",
       "    <tr>\n",
       "      <th>2021-09-14</th>\n",
       "      <td>46913.980469</td>\n",
       "      <td>44860.273438</td>\n",
       "      <td>44860.273438</td>\n",
       "      <td>46393.730469</td>\n",
       "      <td>3.932105e+10</td>\n",
       "      <td>46393.730469</td>\n",
       "    </tr>\n",
       "  </tbody>\n",
       "</table>\n",
       "<p>2080 rows × 6 columns</p>\n",
       "</div>"
      ],
      "text/plain": [
       "                    High           Low          Open         Close  \\\n",
       "Date                                                                 \n",
       "2016-01-01    436.246002    427.515015    430.721008    434.334015   \n",
       "2016-01-02    436.062012    431.869995    434.622009    433.437988   \n",
       "2016-01-03    433.743011    424.705994    433.578003    430.010986   \n",
       "2016-01-04    434.516998    429.084015    430.061005    433.091003   \n",
       "2016-01-05    434.182007    429.675995    433.069000    431.959991   \n",
       "...                  ...           ...           ...           ...   \n",
       "2021-09-09  47031.742188  44344.484375  46396.664062  44883.910156   \n",
       "2021-09-10  45969.292969  44818.265625  44869.839844  45201.457031   \n",
       "2021-09-11  46364.878906  44790.460938  45206.628906  46063.269531   \n",
       "2021-09-12  46598.679688  43591.320312  46057.214844  44963.074219   \n",
       "2021-09-14  46913.980469  44860.273438  44860.273438  46393.730469   \n",
       "\n",
       "                  Volume     Adj Close  \n",
       "Date                                    \n",
       "2016-01-01  3.627890e+07    434.334015  \n",
       "2016-01-02  3.009660e+07    433.437988  \n",
       "2016-01-03  3.963380e+07    430.010986  \n",
       "2016-01-04  3.847750e+07    433.091003  \n",
       "2016-01-05  3.452260e+07    431.959991  \n",
       "...                  ...           ...  \n",
       "2021-09-09  3.915467e+10  44883.910156  \n",
       "2021-09-10  3.449984e+10  45201.457031  \n",
       "2021-09-11  2.788198e+10  46063.269531  \n",
       "2021-09-12  4.096994e+10  44963.074219  \n",
       "2021-09-14  3.932105e+10  46393.730469  \n",
       "\n",
       "[2080 rows x 6 columns]"
      ]
     },
     "execution_count": 5,
     "metadata": {},
     "output_type": "execute_result"
    }
   ],
   "source": [
    "data"
   ]
  },
  {
   "cell_type": "code",
   "execution_count": 6,
   "id": "5d6a3d10-d50d-4e4a-9000-4ac0e6a35dfd",
   "metadata": {},
   "outputs": [],
   "source": [
    "scaler = MinMaxScaler(feature_range=(0,1))\n",
    "\n",
    "scaled_data = scaler.fit_transform(data['Close'].values.reshape(-1,1))"
   ]
  },
  {
   "cell_type": "code",
   "execution_count": 7,
   "id": "5cc7adc5-42df-4827-ad16-e9d713b640c7",
   "metadata": {},
   "outputs": [],
   "source": [
    "prediction_days = 60 #train for 60 days to predict the 61st day\n",
    "\n",
    "\n",
    "x_train , y_train = [] , []\n",
    "\n",
    "for x in range ( prediction_days, len(scaled_data)):\n",
    "    x_train.append(scaled_data[x-prediction_days:x, 0])\n",
    "    y_train.append(scaled_data[x,0])\n",
    "    \n",
    "    \n",
    "x_train , y_train = np.array(x_train) , np.array(y_train)\n",
    "\n",
    "x_train = np.reshape(x_train , (x_train.shape[0] , x_train.shape[1], 1))\n",
    "\n"
   ]
  },
  {
   "cell_type": "code",
   "execution_count": 10,
   "id": "ef63e1fb-28ee-473c-8bd4-94668c563f82",
   "metadata": {},
   "outputs": [
    {
     "name": "stdout",
     "output_type": "stream",
     "text": [
      "Epoch 1/25\n",
      "64/64 [==============================] - 5s 72ms/step - loss: 0.0092\n",
      "Epoch 2/25\n",
      "64/64 [==============================] - 4s 66ms/step - loss: 0.0023\n",
      "Epoch 3/25\n",
      "64/64 [==============================] - 4s 64ms/step - loss: 0.0019\n",
      "Epoch 4/25\n",
      "64/64 [==============================] - 4s 63ms/step - loss: 0.0018\n",
      "Epoch 5/25\n",
      "64/64 [==============================] - 4s 63ms/step - loss: 0.0017\n",
      "Epoch 6/25\n",
      "64/64 [==============================] - 5s 74ms/step - loss: 0.0019\n",
      "Epoch 7/25\n",
      "64/64 [==============================] - 5s 72ms/step - loss: 0.0018\n",
      "Epoch 8/25\n",
      "64/64 [==============================] - 4s 65ms/step - loss: 0.0018\n",
      "Epoch 9/25\n",
      "64/64 [==============================] - 4s 63ms/step - loss: 0.0015\n",
      "Epoch 10/25\n",
      "64/64 [==============================] - 4s 65ms/step - loss: 0.0013\n",
      "Epoch 11/25\n",
      "64/64 [==============================] - 4s 68ms/step - loss: 0.0013\n",
      "Epoch 12/25\n",
      "64/64 [==============================] - 4s 67ms/step - loss: 0.0012\n",
      "Epoch 13/25\n",
      "64/64 [==============================] - 5s 73ms/step - loss: 0.0012\n",
      "Epoch 14/25\n",
      "64/64 [==============================] - 5s 70ms/step - loss: 0.0014\n",
      "Epoch 15/25\n",
      "64/64 [==============================] - 4s 67ms/step - loss: 0.0013\n",
      "Epoch 16/25\n",
      "64/64 [==============================] - 4s 63ms/step - loss: 0.0010\n",
      "Epoch 17/25\n",
      "64/64 [==============================] - 4s 63ms/step - loss: 0.0011\n",
      "Epoch 18/25\n",
      "64/64 [==============================] - 4s 63ms/step - loss: 0.0010\n",
      "Epoch 19/25\n",
      "64/64 [==============================] - 4s 64ms/step - loss: 0.0012: 0s - loss: \n",
      "Epoch 20/25\n",
      "64/64 [==============================] - 4s 66ms/step - loss: 9.3079e-04\n",
      "Epoch 21/25\n",
      "64/64 [==============================] - 4s 60ms/step - loss: 0.0010\n",
      "Epoch 22/25\n",
      "64/64 [==============================] - 4s 58ms/step - loss: 0.0011\n",
      "Epoch 23/25\n",
      "64/64 [==============================] - 4s 57ms/step - loss: 9.7459e-04\n",
      "Epoch 24/25\n",
      "64/64 [==============================] - 4s 57ms/step - loss: 0.0010\n",
      "Epoch 25/25\n",
      "64/64 [==============================] - 4s 59ms/step - loss: 9.7760e-04\n"
     ]
    },
    {
     "data": {
      "text/plain": [
       "<tensorflow.python.keras.callbacks.History at 0x1ef8df06820>"
      ]
     },
     "execution_count": 10,
     "metadata": {},
     "output_type": "execute_result"
    }
   ],
   "source": [
    "#Creating Neural Networks\n",
    "\n",
    "\n",
    "model = Sequential()\n",
    "\n",
    "model.add(LSTM(units = 50, return_sequences = True, input_shape= (x_train.shape[1] , 1)))\n",
    "\n",
    "model.add(Dropout(0.2)) #to prevent overfitting\n",
    "\n",
    "model.add(LSTM(units = 50 , return_sequences = True))\n",
    "\n",
    "model.add(Dropout(0.2))\n",
    "\n",
    "model.add(LSTM(units = 50) ) \n",
    "\n",
    "model.add(Dropout(0.2))\n",
    "          \n",
    "model.add(Dense(units = 1))\n",
    "\n",
    "model.compile(optimizer = 'adam' , loss = 'mean_squared_error')\n",
    "\n",
    "model.fit(x_train, y_train, epochs = 25 , batch_size = 32) "
   ]
  },
  {
   "cell_type": "code",
   "execution_count": 28,
   "id": "49839814-47dd-4414-8535-36c7fbaa301a",
   "metadata": {},
   "outputs": [],
   "source": [
    "#Testing the model \n",
    "\n",
    "\n",
    "test_start = dt.datetime(2020,1,1)\n",
    "\n",
    "test_end = dt.datetime.now()\n",
    "\n",
    "test_data = web.DataReader(f'{crypto}-{currency}' , 'yahoo' , test_start , test_end)\n",
    "\n",
    "actual_prices = test_data['Close'].values"
   ]
  },
  {
   "cell_type": "code",
   "execution_count": 29,
   "id": "37239627-fe71-4529-9abc-93268c8e0411",
   "metadata": {},
   "outputs": [],
   "source": [
    "total_dataset = pd.concat((data['Close'], test_data['Close']) , axis = 0)\n",
    "\n",
    "model_inputs = total_dataset[len(total_dataset) - len(test_data) - prediction_days:].values"
   ]
  },
  {
   "cell_type": "code",
   "execution_count": 30,
   "id": "e4f641b2-8ff3-4acd-8e52-aca7038220b7",
   "metadata": {},
   "outputs": [],
   "source": [
    "model_inputs = model_inputs.reshape(-1, 1)\n",
    "\n",
    "scaler = MinMaxScaler(feature_range=(0,1))\n",
    "\n",
    "model_inputs = scaler.fit_transform(model_inputs)\n",
    "\n",
    "x_test = []\n",
    "\n",
    "for x in range(prediction_days, len(model_inputs)):\n",
    "    x_test.append(model_inputs[x-prediction_days:x , 0])\n",
    "    \n",
    "x_test = np.array(x_test)\n",
    "\n",
    "x_test = np.reshape(x_test , (x_test.shape[0] , x_test.shape[1], 1))\n",
    "\n",
    "prediction_prices = model.predict(x_test)\n",
    "\n",
    "prediction_p = scaler.inverse_transform(prediction_prices)\n",
    "\n"
   ]
  },
  {
   "cell_type": "markdown",
   "id": "5bdd6c2d-211d-4218-af33-a3bda75e48cb",
   "metadata": {},
   "source": [
    "## Plotting the prediction and the actual prices"
   ]
  },
  {
   "cell_type": "code",
   "execution_count": 37,
   "id": "99876139-8b06-4672-965f-b7c0274c0537",
   "metadata": {},
   "outputs": [
    {
     "data": {
      "image/png": "[encoded data removed]",
      "text/plain": [
       "<Figure size 1440x576 with 1 Axes>"
      ]
     },
     "metadata": {
      "needs_background": "light"
     },
     "output_type": "display_data"
    }
   ],
   "source": [
    "plt.figure(figsize=(20,8))\n",
    "\n",
    "plt.plot(actual_prices, color = 'black' , label = 'Actual Prices' )\n",
    "\n",
    "plt.plot(prediction_p , color = 'green' , label = 'Predicted Prices')\n",
    "\n",
    "plt.title(f'{crypto} price prediction')\n",
    "\n",
    "plt.xlabel('Time')\n",
    "\n",
    "plt.ylabel('Price')\n",
    "\n",
    "plt.legend(loc = 'upper left')\n",
    "\n",
    "plt.show()"
   ]
  },
  {
   "cell_type": "markdown",
   "id": "7f76580d-42a4-44f4-abf2-6fad27690f36",
   "metadata": {},
   "source": [
    "## Predict next day\n",
    "\n"
   ]
  },
  {
   "cell_type": "code",
   "execution_count": 41,
   "id": "7d0e2f75-cb35-4f2e-a4b2-8fa5235019fd",
   "metadata": {},
   "outputs": [
    {
     "name": "stdout",
     "output_type": "stream",
     "text": [
      "[[45367.2]]\n"
     ]
    }
   ],
   "source": [
    "real_data = [model_inputs[len(model_inputs) + 1 - prediction_days:len(model_inputs) + 1, 0]]\n",
    "\n",
    "real_data = np.array(real_data)\n",
    "\n",
    "real_data = np.reshape(real_data , (real_data.shape[0], real_data.shape[1], 1))\n",
    "\n",
    "prediction = model.predict(real_data)\n",
    "\n",
    "pd = scaler.inverse_transform(prediction)\n",
    "\n",
    "print(pd)"
   ]
  }
 ],
 "metadata": {
  "kernelspec": {
   "display_name": "Python 3 (ipykernel)",
   "language": "python",
   "name": "python3"
  },
  "language_info": {
   "codemirror_mode": {
    "name": "ipython",
    "version": 3
   },
   "file_extension": ".py",
   "mimetype": "text/x-python",
   "name": "python",
   "nbconvert_exporter": "python",
   "pygments_lexer": "ipython3",
   "version": "3.8.11"
  }
 },
 "nbformat": 4,
 "nbformat_minor": 5
}
